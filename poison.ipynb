{
 "cells": [
  {
   "cell_type": "markdown",
   "id": "279a7354",
   "metadata": {},
   "source": [
    "\n",
    "\n",
    "<div class=\"\"alert alert-block alert-success\"\"><h1><b> \n",
    "     Persamaan Poisson 2D  </b></h1></div>\n",
    "\n",
    "\n",
    "Diketahui persamaan Poisson berikut ini\n",
    "\n",
    "\\begin{equation}\n",
    "\\dfrac{\\partial^2 u}{\\partial x^2} + \\dfrac{\\partial^2 u}{\\partial y^2} = f(x,y)\n",
    "\\end{equation}\n",
    "\n",
    "akan diterapkan pada domain bujur sangkar $0\\le x,y \\le 1$, dengan suku sumber dinyatakan dengan\n",
    "\n",
    "\\begin{align} \n",
    "f(x,y) = &1000 \\left[2\\sinh\\left(x-\\frac{1}{2}\\right) + 4\\left(x-\\frac{1}{2}\\right)\\cosh\\left(x-\\frac{1}{2}\\right) + \\left(x-\\frac{1}{2}\\right)^2\\sinh\\left(x-\\frac{1}{2}\\right)\\right] + \\nonumber\\\\\n",
    "& 1000 \\left[2\\sinh\\left(y-\\frac{1}{2}\\right) + 4\\left(y-\\frac{1}{2}\\right)\\cosh\\left(y-\\frac{1}{2}\\right) + \\left(y-\\frac{1}{2}\\right)^2\\sinh\\left(y-\\frac{1}{2}\\right)\\right] \n",
    "\\end{align}\n",
    "\n",
    "Syarat batas ditetapkan sebagai berikut:\n",
    "\n",
    "\\begin{align} \n",
    "u(0,y) & = 1000\\left[ \\frac{1}{4}\\sinh \\left( -\\frac{1}{2}\\right) + \\left( y-\\frac{1}{2}\\right)^2\\sinh\\left(y-\\frac{1}{2}\\right) \\right] \\\\\n",
    "u(1,y) & = 1000\\left[ \\frac{1}{4}\\sinh \\left( \\frac{1}{2}\\right) + \\left( y-\\frac{1}{2}\\right)^2\\sinh\\left(y-\\frac{1}{2}\\right) \\right] \\\\\n",
    "u(x,0) & = 1000\\left[  \\left( x-\\frac{1}{2}\\right)^2\\sinh\\left(x-\\frac{1}{2}\\right) + \\frac{1}{4}\\sinh \\left( -\\frac{1}{2}\\right) \\right] \\\\\n",
    "u(x,1) & = 1000\\left[  \\left( x-\\frac{1}{2}\\right)^2\\sinh\\left(x-\\frac{1}{2}\\right) + \\frac{1}{4}\\sinh \\left( \\frac{1}{2}\\right) \\right] \n",
    "\\end{align}\n",
    "\n",
    "Tentukan solusi menggunakan metode beda hingga. Bandingkan galatnya dengan solusi analitik berikut.\n",
    "\n",
    "\\begin{equation}\n",
    "u(x,y)  = 1000\\left[ \\left( x-\\frac{1}{2}\\right)^2\\sinh\\left(x-\\frac{1}{2}\\right) + \\left( y-\\frac{1}{2}\\right)^2\\sinh\\left(y-\\frac{1}{2}\\right) \\right]\n",
    "\\end{equation}\n",
    "\n",
    "## Diskretisasi\n",
    "\n",
    "Kita lakukan diskretisasi ruang menggunakan metode beda hingga (*finite difference*).\n",
    "\n",
    "$$\\left.\\frac{\\partial^2 u}{\\partial x^2}\\right|_{i,j} \\approx \\frac{u_{i+1,j} - 2u_{i,j}+u_{i-1,j}}{\\Delta x^2}$$\n",
    "\n",
    "$$\\left.\\frac{\\partial^2 u}{\\partial y^2}\\right|_{i,j} \\approx \\frac{u_{i,j+1} - 2u_{i,j}+u_{i,j-1}}{\\Delta y^2}$$\n",
    "\n",
    "Dengan mensubstitusi persamaan diferensi di atas ke persamaan Poisson, akan didapatkan\n",
    "\n",
    "$$\\left(\\frac{u_{i+1,j} - 2u_{i,j}+u_{i-1,j}}{\\Delta x^2}\\right) + \\left(\\frac{u_{i,j+1} - 2u_{i,j}+u_{i,j-1}}{\\Delta y^2}\\right) = f_{i,j}$$\n",
    "\n",
    "atau\n",
    "\n",
    "$$\\frac{1}{\\Delta x^2} u_{i-1,j} + \\frac{1}{\\Delta x^2} u_{i+1,j} - \\left(\\dfrac{2}{\\Delta x^2} + \\dfrac{2}{\\Delta y^2} \\right) u_{i,j}  + \\frac{1}{\\Delta y^2} u_{i,j-1} + \\frac{1}{\\Delta y^2} u_{i,j+1} = f_{i,j}$$\n",
    "\n",
    "Kita akan menyelesaikan persamaan diferensi ini menggunakan metode langsung, sehingga kita perlu menyusun matriks **[A]** untuk menyelesaikan persamaan matriks berikut\n",
    "\n",
    "$$\\mathbf{[A][u]} = \\mathbf{[f]} $$\n",
    "\n",
    "Kita tentukan banyaknya interval ke arah sumbu *x* sebanyak $N$ dan interval ke arah sumbu $y$ sebanyak $M$. Dengan demikian akan diperoleh $N+1$ titik ke arah sumbu $x$ dan $M+1$ titik ke arah sumbu $y$. Matriks $\\mathbf{[A]}$ yang akan kita susun  berukuran $(N+1)(M+1) \\times (N+1)(M+1)$ elemen.\n",
    "\n",
    "## Coding\n",
    "\n",
    "Pertama kita tentukan terlebih dahulu banyaknya interval dan menginisialisasi semua variabel yang diperlukan."
   ]
  },
  {
   "cell_type": "code",
   "execution_count": null,
   "id": "1bb83868",
   "metadata": {},
   "outputs": [],
   "source": [
    "import numpy as np\n",
    "import matplotlib.pyplot as plt\n",
    "import matplotlib as mpl\n",
    "import time"
   ]
  },
  {
   "cell_type": "code",
   "execution_count": null,
   "id": "02f84afb",
   "metadata": {},
   "outputs": [],
   "source": [
    "# Langkah 1\n",
    "\n",
    "N = ...                            # banyaknya interval arah x\n",
    "M = ...                            # banyaknya interval arah y\n",
    "\n",
    "xmin = ...                         # batas bawah domain arah x\n",
    "xmax = ...                         # batas atas domain arah x\n",
    "\n",
    "ymin = ...                         # batas bawah domain arah y\n",
    "ymax = ...                         # batas atas domain arah y\n",
    "\n",
    "# tentukan lebar interval\n",
    "dx = ...             \n",
    "dy = ...\n",
    "\n",
    "# nilai kuadrat dari interval\n",
    "dx2 = dx**2\n",
    "dy2 = dy**2\n",
    "\n",
    "# nilai diskret dari x dan y\n",
    "x = np.linspace(..., ..., ...)\n",
    "y = np.linspace(..., ..., ...)\n",
    "\n",
    "# inisialisasi\n",
    "A = np.zeros(..., ...)            # matriks A\n",
    "u = np.zeros(...)                 # vektor u\n",
    "f = np.zeros(...)                 # vektor f\n",
    "u2d = np.zeros(...,...)           # matriks u untuk plotting 2 dimensi\n",
    "uanal = np.zeros(...,...)         # matriks solusi analitis untuk plotting 2 dimensi"
   ]
  },
  {
   "cell_type": "markdown",
   "id": "5c5d6f65",
   "metadata": {},
   "source": [
    "Berikutnya kita susun matriks $\\mathbf{[A]}$ dan vektor $\\mathbf{[f]}$"
   ]
  },
  {
   "cell_type": "code",
   "execution_count": null,
   "id": "1a65b5ff",
   "metadata": {},
   "outputs": [],
   "source": [
    "# create matrix A and vector f\n",
    "\n",
    "# Untuk mapping dari (i,j) ke k, lihat slide kuliah.\n",
    "\n",
    "\n",
    "# Langkah 2 :\n",
    "\n",
    "# Inner grids\n",
    "\n",
    "for i in range(..., ...):\n",
    "    for j in range(..., ...):\n",
    "        k = ...                         # lakukan mapping dari (i,j) ke k\n",
    "        \n",
    "        A[k,k] = ...                    # titik o\n",
    "        A[k,k-1] = A[k,k+1] = ...       # titik west dan east\n",
    "        A[k,k-N-1] = A[k,k+N+1] = ...   # titik south dan north\n",
    "        \n",
    "        f[k] = ...\n",
    "\n",
    "        \n",
    "# Langkah 3: \n",
    "\n",
    "# Grids batas kiri  dan kanan domain       \n",
    "for i in [..., ... ]:\n",
    "    for j in range(... ):\n",
    "        k = ... \n",
    "        A[k,k] = ... \n",
    "        if i == 0:\n",
    "            u[k] = ...  # BC u(0,y) / kiri domain\n",
    "        else:\n",
    "            u[k] = ...  # BC u(1,y) / kanan domain\n",
    "        f[k] = u[k]\n",
    "\n",
    "# Langkah 4:\n",
    "# Grids batas bawah dan atas    \n",
    "for j in [..., ...]:\n",
    "    for i in range(...):\n",
    "        k = ...\n",
    "        A[k,k] = ...\n",
    "        if j == 0:\n",
    "            u[k] = ...  # BC u(x,0) / bawah domain\n",
    "        else:\n",
    "            u[k] = ...  # BC u(x,1) / atas domain\n",
    "        f[k] = u[k]\n",
    "\n"
   ]
  },
  {
   "cell_type": "markdown",
   "id": "c1755fd7",
   "metadata": {},
   "source": [
    "Mari kita cek bagaimana bentuk matriks $\\mathbf{[A]}$."
   ]
  },
  {
   "cell_type": "code",
   "execution_count": null,
   "id": "2c855830",
   "metadata": {},
   "outputs": [],
   "source": [
    "plt.figure(figsize=(10,10))\n",
    "plt.spy(A)\n",
    "plt.show()"
   ]
  },
  {
   "cell_type": "markdown",
   "id": "6e2a33c6",
   "metadata": {},
   "source": [
    "Tampak bahwa matriks $\\mathbf{[A]}$ merupakan *sparse matrix* di mana banyak elemen-elemennya bernilai 0 dan elemen yang tidak bernilai 0 akan membentuk *penta diagonal* (diagonal 5 baris)."
   ]
  },
  {
   "cell_type": "markdown",
   "id": "24dbbd87",
   "metadata": {},
   "source": [
    "Setelah tersusun matriks $\\mathbf{[A]}$ dan vektor $\\mathbf{[f]}$ selanjutnya kita selesaikan persamaan matriks."
   ]
  },
  {
   "cell_type": "markdown",
   "id": "ce054d02",
   "metadata": {},
   "source": [
    "<div class=\"alert alert-block alert-warning\"><h3><b> Metode Langsung </b></h3></div>\n",
    "\n",
    "Pertama kita akan gunakan metode solusi langsung."
   ]
  },
  {
   "cell_type": "code",
   "execution_count": null,
   "id": "fddc91c1",
   "metadata": {},
   "outputs": [],
   "source": [
    "# Langkah 5:\n",
    "\n",
    "tic = time.time()\n",
    "# Selesaikan menggunakan numpy\n",
    "u = np.linalg.solve(..., ...)\n",
    "toc = time.time()\n",
    "print(\"waktu =\",toc-tic)\n",
    "\n",
    "\n",
    "# Perlu dilakukan remapping untuk membentuk matriks 2D dari vektor\n",
    "u2d = np.reshape(..., ...)\n",
    "\n",
    "# Transpose untuk menyesuaikan plot\n",
    "u2d = u2d.T"
   ]
  },
  {
   "cell_type": "markdown",
   "id": "31df3cc1",
   "metadata": {},
   "source": [
    "Kita tampilkan hasilnya secara numerik terlebih dahulu"
   ]
  },
  {
   "cell_type": "code",
   "execution_count": null,
   "id": "e574cb4f",
   "metadata": {},
   "outputs": [],
   "source": [
    "print(\"u =\",u)\n",
    "print(\"u2d =\",u2d)"
   ]
  },
  {
   "cell_type": "markdown",
   "id": "f6c28226",
   "metadata": {},
   "source": [
    "Kita akan bandingkan hasil komputasi kita dengan solusi analitik dan tampilkan nilai galatnya."
   ]
  },
  {
   "cell_type": "code",
   "execution_count": null,
   "id": "560173f3",
   "metadata": {},
   "outputs": [],
   "source": [
    "# Langkah 6 :\n",
    "\n",
    "\n",
    "# Analytic solution\n",
    "\n",
    "for i in range(...):\n",
    "    for j in range(...):\n",
    "        uanal[i,j] = ...\n",
    "\n",
    "# Transpose untuk menyesuaikan plot\n",
    "uanal = uanal.T\n",
    "\n",
    "# Nilai galat\n",
    "galat = u2d - uanal\n",
    "\n",
    "# tampilkan galat\n",
    "print(\"galat =\", galat)"
   ]
  },
  {
   "cell_type": "markdown",
   "id": "e629e23a",
   "metadata": {},
   "source": [
    "Selanjutnya kita akan membuat plot hasil serta galatnya. Kita coba buat 4 plot yaitu : (1) plot hasil dalam 2D, (2) plot hasil dalam 3D, (3) plot hasil dalam bentuk kontur dan (4) plot kontur dari galat."
   ]
  },
  {
   "cell_type": "code",
   "execution_count": null,
   "id": "a8eec5d2",
   "metadata": {},
   "outputs": [],
   "source": [
    "# plot\n",
    "\n",
    "X, Y = np.meshgrid(x,y)             # susun meshgrid untuk plot 3D\n",
    "fig = plt.figure(figsize=(15,15))\n",
    "cmap = mpl.cm.get_cmap('seismic')   # tentukan colormap sesuai keinginan\n",
    "\n",
    "# subplot pertama menampilkan hasil dalam bentuk plot 2D\n",
    "ax = fig.add_subplot(2,2,1)\n",
    "c = ax.pcolor(X,Y,u2d, vmin=-300, vmax=300, cmap=cmap,shading='auto')\n",
    "ax.set_xlabel(r\"x\", fontsize=12)\n",
    "ax.set_ylabel(r\"y\", fontsize=12)\n",
    "ax.set_title(\"Hasil Komputasi\")\n",
    "\n",
    "# subplot kedua menampilkan hasil dalam bentuk plot 3D\n",
    "ax = fig.add_subplot(2,2,2, projection='3d')\n",
    "p = ax.plot_surface(X,Y, u2d, vmin=-300, vmax=300, linewidth=0, cmap=cmap)\n",
    "ax.set_xlabel(r\"x\", fontsize=12)\n",
    "ax.set_ylabel(r\"y\", fontsize=12)\n",
    "ax.set_title(\"Hasil Komputasi\")\n",
    "cb = plt.colorbar(p, ax=ax, shrink=0.75)\n",
    "cb.set_label(r\"u(x,y)\", fontsize=12)\n",
    "\n",
    "# subplot ketiga menampilkan hasil dalam bentuk kontur\n",
    "ax = fig.add_subplot(2,2,3)\n",
    "contours = plt.contour(X,Y,u2d, 20, colors='black')\n",
    "plt.clabel(contours, inline=True, fontsize=8)\n",
    "plt.xlabel(\"x\", fontsize=12)\n",
    "plt.ylabel(\"y\", fontsize=12)\n",
    "ax.set_title(\"Kontur dari Hasil Komputasi\")\n",
    "\n",
    "# subplot keempat menampilkan kontur dari galat\n",
    "ax = fig.add_subplot(2,2,4)\n",
    "contours = plt.contour(X,Y,galat, 20, colors='black')\n",
    "plt.clabel(contours, inline=True, fontsize=8)\n",
    "plt.xlabel(\"x\", fontsize=12)\n",
    "plt.ylabel(\"y\", fontsize=12)\n",
    "ax.set_title(\"Kontur dari Galat\")\n",
    "\n",
    "plt.show()"
   ]
  },
  {
   "cell_type": "markdown",
   "id": "a9eebf10",
   "metadata": {},
   "source": [
    "Silakan mencoba dengan jumlah interval solusi yang lebih banyak, untuk mengetahui bagaimana pengaruhnya terhadap solusi dan galatnya."
   ]
  },
  {
   "cell_type": "markdown",
   "id": "f611dfc6",
   "metadata": {},
   "source": [
    "<div class=\"alert alert-block alert-warning\"><h3><b> Metode Iteratif </b></h3></div>\n",
    "\n",
    "Selanjutnya kita coba menggunakan metode iteratif sebagai perbandingan. Dalam hal ini kita gunakan metode GMRES dengan *ILU preconditioning*"
   ]
  },
  {
   "cell_type": "code",
   "execution_count": null,
   "id": "b0f018e8",
   "metadata": {},
   "outputs": [],
   "source": [
    "import scipy.sparse as sparse\n",
    "import scipy.sparse.linalg as sla\n",
    "from scipy.sparse import csc_matrix"
   ]
  },
  {
   "cell_type": "code",
   "execution_count": null,
   "id": "77ad1f88",
   "metadata": {},
   "outputs": [],
   "source": [
    "# Preconditioning\n",
    "\n",
    "B = csc_matrix(A, dtype=float)\n",
    "ILUfact = sla.spilu(B)\n",
    "\n",
    "C = sla.LinearOperator(\n",
    "    shape = B.shape,\n",
    "    matvec = lambda b: ILUfact.solve(b)\n",
    ")\n",
    "\n",
    "# Langkah 7:\n",
    "\n",
    "# mencari solusi menggunakan GMRES \n",
    "tic = ...\n",
    "ugmres, exit = sla.gmres(..., ..., ...)\n",
    "toc = ...\n",
    "\n",
    "print(\"waktu =\",toc-tic)"
   ]
  },
  {
   "cell_type": "code",
   "execution_count": null,
   "id": "8ba291a1",
   "metadata": {},
   "outputs": [],
   "source": [
    "Langkah 8:\n",
    "\n",
    "# Perlu dilakukan remapping untuk membentuk matriks 2D dari vektor\n",
    "u2dgmres = np.reshape(..., ...)\n",
    "\n",
    "# Transpose untuk menyesuaikan plot\n",
    "u2dgmres = u2dgmres.T\n",
    "\n",
    "# Tampilkan nilai numerik dari hasil\n",
    "print(\"ugmres =\",ugmres)\n",
    "print(\"u2dgmres =\",u2dgmres)\n",
    "\n",
    "\n",
    "# Nilai galat\n",
    "galatgmres = u2dgmres - uanal\n",
    "\n",
    "# Tampilkan nilai numerik dari galat\n",
    "print(\"galatgmres =\",galatgmres)"
   ]
  },
  {
   "cell_type": "code",
   "execution_count": null,
   "id": "732bf60f",
   "metadata": {},
   "outputs": [],
   "source": [
    "# plot\n",
    "\n",
    "X, Y = np.meshgrid(x,y)             # susun meshgrid untuk plot 3D\n",
    "fig = plt.figure(figsize=(15,15))\n",
    "cmap = mpl.cm.get_cmap('seismic')   # tentukan colormap sesuai keinginan\n",
    "\n",
    "# subplot pertama menampilkan hasil dalam bentuk plot 2D\n",
    "ax = fig.add_subplot(2,2,1)\n",
    "c = ax.pcolor(X,Y,u2dgmres, vmin=-300, vmax=300, cmap=cmap,shading='auto')\n",
    "ax.set_xlabel(r\"x\", fontsize=12)\n",
    "ax.set_ylabel(r\"y\", fontsize=12)\n",
    "ax.set_title(\"Hasil Komputasi\")\n",
    "\n",
    "# subplot kedua menampilkan hasil dalam bentuk plot 3D\n",
    "ax = fig.add_subplot(2,2,2, projection='3d')\n",
    "p = ax.plot_surface(X,Y, u2dgmres, vmin=-300, vmax=300, linewidth=0, cmap=cmap)\n",
    "ax.set_xlabel(r\"x\", fontsize=12)\n",
    "ax.set_ylabel(r\"y\", fontsize=12)\n",
    "ax.set_title(\"Hasil Komputasi\")\n",
    "cb = plt.colorbar(p, ax=ax, shrink=0.75)\n",
    "cb.set_label(r\"u(x,y)\", fontsize=12)\n",
    "\n",
    "# subplot ketiga menampilkan hasil dalam bentuk kontur\n",
    "ax = fig.add_subplot(2,2,3)\n",
    "contours = plt.contour(X,Y,u2dgmres, 20, colors='black')\n",
    "plt.clabel(contours, inline=True, fontsize=8)\n",
    "plt.xlabel(\"x\", fontsize=12)\n",
    "plt.ylabel(\"y\", fontsize=12)\n",
    "ax.set_title(\"Kontur dari Hasil Komputasi\")\n",
    "\n",
    "# subplot keempat menampilkan kontur dari galat\n",
    "ax = fig.add_subplot(2,2,4)\n",
    "contours = plt.contour(X,Y,galatgmres, 20, colors='black')\n",
    "plt.clabel(contours, inline=True, fontsize=8)\n",
    "plt.xlabel(\"x\", fontsize=12)\n",
    "plt.ylabel(\"y\", fontsize=12)\n",
    "ax.set_title(\"Kontur dari Galat\")\n",
    "\n",
    "plt.show()"
   ]
  },
  {
   "cell_type": "code",
   "execution_count": null,
   "id": "56afb946",
   "metadata": {},
   "outputs": [],
   "source": []
  }
 ],
 "metadata": {
  "kernelspec": {
   "display_name": "Python 3 (ipykernel)",
   "language": "python",
   "name": "python3"
  },
  "language_info": {
   "codemirror_mode": {
    "name": "ipython",
    "version": 3
   },
   "file_extension": ".py",
   "mimetype": "text/x-python",
   "name": "python",
   "nbconvert_exporter": "python",
   "pygments_lexer": "ipython3",
   "version": "3.9.6"
  }
 },
 "nbformat": 4,
 "nbformat_minor": 5
}
